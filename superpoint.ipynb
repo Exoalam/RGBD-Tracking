{
 "cells": [
  {
   "cell_type": "code",
   "execution_count": null,
   "metadata": {},
   "outputs": [],
   "source": [
    "from superpoint_pytorch import SuperPoint\n",
    "import torch\n",
    "import cv2\n",
    "\n",
    "model = SuperPoint()\n",
    "weights_path = 'weights\\superpoint_v6_from_tf.pth'\n",
    "model.load_state_dict(torch.load(weights_path))\n",
    "model.eval()  # Set the model to evaluation mode\n"
   ]
  },
  {
   "cell_type": "code",
   "execution_count": 5,
   "metadata": {},
   "outputs": [],
   "source": [
    "img = cv2.imread('bottle_ref.jpg', cv2.IMREAD_GRAYSCALE)\n",
    "if img is None:\n",
    "    raise ValueError(\"Image not found\")\n",
    "img_resized = cv2.resize(img, (640, 480))  # Resize if necessary\n",
    "img_tensor = torch.from_numpy(img_resized).unsqueeze(0).unsqueeze(0).float() / 255.0  # Normalize if necessary\n",
    "\n",
    "# Forward pass to get keypoints and descriptors\n",
    "with torch.no_grad():\n",
    "    output = model({'image': img_tensor})\n",
    "    keypoints = output['keypoints'][0]  # Assuming single image (batch size = 1)\n",
    "    descriptors = output['descriptors'][0]\n",
    "\n",
    "# Display keypoints on the image\n",
    "for point in keypoints:\n",
    "    x, y = map(int, point)\n",
    "    cv2.circle(img_resized, (x, y), 1, (0, 255, 0), -1)\n",
    "\n",
    "cv2.imshow('Keypoints', img_resized)\n",
    "cv2.waitKey(0)\n",
    "cv2.destroyAllWindows()"
   ]
  },
  {
   "cell_type": "code",
   "execution_count": null,
   "metadata": {},
   "outputs": [],
   "source": []
  }
 ],
 "metadata": {
  "kernelspec": {
   "display_name": "rgbd",
   "language": "python",
   "name": "python3"
  },
  "language_info": {
   "codemirror_mode": {
    "name": "ipython",
    "version": 3
   },
   "file_extension": ".py",
   "mimetype": "text/x-python",
   "name": "python",
   "nbconvert_exporter": "python",
   "pygments_lexer": "ipython3",
   "version": "3.10.13"
  }
 },
 "nbformat": 4,
 "nbformat_minor": 2
}
